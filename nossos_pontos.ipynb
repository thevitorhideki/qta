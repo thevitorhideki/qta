{
 "cells": [
  {
   "cell_type": "code",
   "execution_count": 1,
   "metadata": {},
   "outputs": [],
   "source": [
    "import pandas as pd\n",
    "import numpy as np\n",
    "import matplotlib.pyplot as plt\n",
    "import seaborn as sns"
   ]
  },
  {
   "cell_type": "code",
   "execution_count": 2,
   "metadata": {},
   "outputs": [],
   "source": [
    "# Cálculo do IQA da nossa amostra (Índice de Qualidade da Água)\n",
    "data = pd.read_csv('nossos_dados.csv')\n",
    "iqa_file = pd.ExcelFile('DadosIQA.xlsx')\n",
    "\n",
    "# Relação dos arquivos de base para cálcudo do IQA com a nossa tabela criada\n",
    "iqa_data = {\n",
    "    'pH': {\n",
    "        'name': 'pH',\n",
    "        'lim_inf': [2, 2],\n",
    "        'lim_sup': [12, 3],\n",
    "        'q': [],\n",
    "        'peso': 0.12\n",
    "    },\n",
    "    'Temperatura': {\n",
    "        'name': 'Temperatura',\n",
    "        'lim_inf': [-5, np.inf],\n",
    "        'lim_sup': [15, 9],\n",
    "        'q': [],\n",
    "        'peso': 0.10\n",
    "    },\n",
    "    'Coliformes Termotolerantes': {\n",
    "        'name': 'Coliformes',\n",
    "        'lim_inf': [1, 100],\n",
    "        'lim_sup': [1e5, 3],\n",
    "        'q': [],\n",
    "        'peso': 0.15\n",
    "    },\n",
    "    'Nitrogênio Total': {\n",
    "        'name': 'N',\n",
    "        'lim_inf': [0.5, 100],\n",
    "        'lim_sup': [100, 1],\n",
    "        'q': [],\n",
    "        'peso': 0.10\n",
    "    },\n",
    "    'Turbidez': {\n",
    "        'name': 'Turbidez',\n",
    "        'lim_inf': [0.5, 100],\n",
    "        'lim_sup': [100, 5],    \n",
    "        'q': [],\n",
    "        'peso': 0.08\n",
    "    },\n",
    "    'Oxigênio Dissolvido': {\n",
    "        'name': 'OD',\n",
    "        'lim_inf': [5, 5],\n",
    "        'lim_sup': [140, 47],\n",
    "        'q': [],\n",
    "        'peso': 0.17\n",
    "    },\n",
    "    'Fósforo Total': {\n",
    "        'name':'Fosforo',\n",
    "        'lim_inf': [0.5, 100],\n",
    "        'lim_sup': [10, 5],\n",
    "        'q': [],\n",
    "        'peso': 0.10\n",
    "    },\n",
    "    'Sólido Total': {\n",
    "        'name': 'Residuos',\n",
    "        'lim_inf': [0, 83],\n",
    "        'lim_sup': [500, 32],\n",
    "        'q': [],\n",
    "        'peso': 0.08\n",
    "    }\n",
    "}"
   ]
  },
  {
   "cell_type": "code",
   "execution_count": 3,
   "metadata": {},
   "outputs": [],
   "source": [
    "# Loop para calcular os Q's de cada parâmetro\n",
    "for param in iqa_data.keys():\n",
    "    data_per_param = data.loc[data['Parametro'] == param]\n",
    "    iqa_df = pd.read_excel(iqa_file, iqa_data[param]['name'])\n",
    "\n",
    "    for val in data_per_param['Valor']:\n",
    "        if val < iqa_data[param]['lim_inf'][0]:\n",
    "            q = iqa_data[param]['lim_inf'][1]\n",
    "        elif val > iqa_data[param]['lim_sup'][0]:\n",
    "            q = iqa_data[param]['lim_sup'][1]\n",
    "        else:\n",
    "            for index in range(1, len(iqa_df[iqa_df.columns[0]])):\n",
    "                if val <= iqa_df[iqa_df.columns[0]][index]:\n",
    "                    q = np.interp(val, \n",
    "                                    [float(iqa_df[iqa_df.columns[0]][index]), float(iqa_df[iqa_df.columns[0]][index-1])], \n",
    "                                    [iqa_df[iqa_df.columns[1]][index], iqa_df[iqa_df.columns[1]][index-1]])\n",
    "                    break\n",
    "\n",
    "        iqa_data[param]['q'].append(float(f'{q:.4f}'))"
   ]
  },
  {
   "cell_type": "code",
   "execution_count": 4,
   "metadata": {},
   "outputs": [
    {
     "name": "stdout",
     "output_type": "stream",
     "text": [
      "Valor de q para pH: [69.3878]\n",
      "Valor de q para Temperatura: [88.9796]\n",
      "Valor de q para Coliformes Termotolerantes: [3.0]\n",
      "Valor de q para Nitrogênio Total: [54.8602]\n",
      "Valor de q para Turbidez: [44.9704]\n",
      "Valor de q para Oxigênio Dissolvido: [29.6785]\n",
      "Valor de q para Fósforo Total: [55.2]\n",
      "Valor de q para Sólido Total: [32.0]\n"
     ]
    }
   ],
   "source": [
    "for param in iqa_data.keys():\n",
    "    print(f'Valor de q para {param}: {iqa_data[f\"{param}\"][\"q\"]}')"
   ]
  },
  {
   "cell_type": "code",
   "execution_count": 5,
   "metadata": {},
   "outputs": [
    {
     "name": "stdout",
     "output_type": "stream",
     "text": [
      "IQA: 23.3687\n"
     ]
    }
   ],
   "source": [
    "# Pesos dos parâmetros\n",
    "pesos = np.array([iqa_data[param]['peso'] for param in iqa_data])\n",
    "\n",
    "# Valores de qualidade (q) para cada amostra\n",
    "q_values = np.array([iqa_data[param]['q'] for param in iqa_data])\n",
    "\n",
    "IQA = np.prod(q_values**pesos[:, None], axis=0)\n",
    "IQA = IQA * 2**0.1\n",
    "\n",
    "print(f'IQA: {IQA[0]:.4f}')"
   ]
  }
 ],
 "metadata": {
  "kernelspec": {
   "display_name": ".venv",
   "language": "python",
   "name": "python3"
  },
  "language_info": {
   "codemirror_mode": {
    "name": "ipython",
    "version": 3
   },
   "file_extension": ".py",
   "mimetype": "text/x-python",
   "name": "python",
   "nbconvert_exporter": "python",
   "pygments_lexer": "ipython3",
   "version": "3.10.12"
  }
 },
 "nbformat": 4,
 "nbformat_minor": 2
}
